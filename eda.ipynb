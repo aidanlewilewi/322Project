{
 "metadata": {
  "language_info": {
   "codemirror_mode": {
    "name": "ipython",
    "version": 3
   },
   "file_extension": ".py",
   "mimetype": "text/x-python",
   "name": "python",
   "nbconvert_exporter": "python",
   "pygments_lexer": "ipython3",
   "version": "3.8.5"
  },
  "orig_nbformat": 2,
  "kernelspec": {
   "name": "python3",
   "display_name": "Python 3.8.5 64-bit ('base': conda)",
   "metadata": {
    "interpreter": {
     "hash": "98b0a9b7b4eaaa670588a142fd0a9b87eaafe866f1db4228be72b4211d12040f"
    }
   }
  }
 },
 "nbformat": 4,
 "nbformat_minor": 2,
 "cells": [
  {
   "source": [
    "# 322 Project Exploratory Data Analysis"
   ],
   "cell_type": "markdown",
   "metadata": {}
  },
  {
   "cell_type": "code",
   "execution_count": 298,
   "metadata": {},
   "outputs": [],
   "source": [
    "import importlib\n",
    "import random\n",
    "\n",
    "import mysklearn.myutils\n",
    "importlib.reload(mysklearn.myutils)\n",
    "import mysklearn.myutils as myutils\n",
    "\n",
    "import mysklearn.mypytable\n",
    "importlib.reload(mysklearn.mypytable)\n",
    "from mysklearn.mypytable import MyPyTable \n",
    "\n",
    "import mysklearn.myclassifiers\n",
    "importlib.reload(mysklearn.myclassifiers)\n",
    "from mysklearn.myclassifiers import MyKNeighborsClassifier, MySimpleLinearRegressor, MyNaiveBayesClassifier, MyDecisionTreeClassifier\n",
    "\n",
    "import mysklearn.myevaluation\n",
    "importlib.reload(mysklearn.myevaluation)\n",
    "import mysklearn.myevaluation as myevaluation"
   ]
  },
  {
   "cell_type": "code",
   "execution_count": 300,
   "metadata": {},
   "outputs": [],
   "source": [
    "customerData = MyPyTable()\n",
    "customerData.load_from_file('projectData/test.csv')\n",
    "customerData.remove_rows_with_missing_values()\n",
    "\n",
    "# get rid of # and ID columns\n",
    "newTable = []\n",
    "for row in customerData.data:\n",
    "    newTable.append(row[2:])\n",
    "customerData.data = newTable\n",
    "customerData.column_names = customerData.column_names[2:]\n"
   ]
  },
  {
   "source": [
    "## Random Subsampling"
   ],
   "cell_type": "markdown",
   "metadata": {}
  },
  {
   "cell_type": "code",
   "execution_count": 301,
   "metadata": {
    "tags": []
   },
   "outputs": [],
   "source": [
    "indices = list(range(len(customerData.data)))\n",
    "random.shuffle(indices)\n",
    "subset = indices[0:1000]\n",
    "newTable = []\n",
    "for ind in subset:\n",
    "    newTable.append(customerData.data[ind])\n",
    "customerData.data = newTable\n",
    "\n",
    "satisfaction = []\n",
    "for row in customerData.data:\n",
    "    satisfaction.append(row.pop())\n",
    "\n"
   ]
  },
  {
   "source": [
    "## Categorizing Flight Distance"
   ],
   "cell_type": "markdown",
   "metadata": {}
  },
  {
   "cell_type": "code",
   "execution_count": 302,
   "metadata": {
    "tags": []
   },
   "outputs": [],
   "source": [
    "distance = myutils.get_column(customerData.data, customerData.column_names, 'Flight Distance')\n",
    "distCutoffs = myutils.compute_equal_width_cutoffs(distance, 5)\n",
    "distBins = myutils.convert_cutoffs_to_bins(distCutoffs)\n",
    "for i in range(len(customerData.data)):\n",
    "    customerData.data[i][5] = myutils.convertBinToCategory(customerData.data[i][5], distBins)"
   ]
  },
  {
   "source": [
    "## Categorizing Age"
   ],
   "cell_type": "markdown",
   "metadata": {}
  },
  {
   "cell_type": "code",
   "execution_count": 303,
   "metadata": {
    "tags": []
   },
   "outputs": [],
   "source": [
    "age = myutils.get_column(customerData.data, customerData.column_names, 'Age')\n",
    "ageCutoffs = myutils.compute_equal_width_cutoffs(age, 5)\n",
    "ageBins = myutils.convert_cutoffs_to_bins(ageCutoffs)\n",
    "for i in range(len(customerData.data)):\n",
    "    customerData.data[i][2] = myutils.convertBinToCategory(customerData.data[i][2], ageBins)"
   ]
  },
  {
   "cell_type": "code",
   "execution_count": 306,
   "metadata": {
    "tags": []
   },
   "outputs": [
    {
     "output_type": "stream",
     "name": "stdout",
     "text": [
      "['Attribute', 'att6', ['Value', 1.0, ['Attribute', 'att9', ['Value', 1.0, ['Leaf', 'satisfied', 59, 71]], ['Value', 2.0, ['Leaf', 'neutral or dissatisfied', 19, 167]], ['Value', 3.0, ['Leaf', 'neutral or dissatisfied', 35, 167]], ['Value', 4.0, ['Leaf', 'neutral or dissatisfied', 30, 167]], ['Value', 5.0, ['Leaf', 'neutral or dissatisfied', 12, 167]]]], ['Value', 2.0, ['Attribute', 'att9', ['Value', 1.0, ['Leaf', 'neutral or dissatisfied', 28, 244]], ['Value', 2.0, ['Attribute', 'att4', ['Value', 'Business', ['Attribute', 'att5', ['Value', 1, ['Attribute', 'att3', ['Value', 'Business travel', ['Leaf', 'satisfied', 9, 12]], ['Value', 'Personal Travel', ['Leaf', 'neutral or dissatisfied', 2, 14]]]], ['Value', 2, ['Leaf', 'satisfied', 22, 52]], ['Value', 3, ['Attribute', 'att0', ['Value', 'Female', ['Leaf', 'satisfied', 6, 7]], ['Value', 'Male', ['Leaf', 'satisfied', 4, 11]]]], ['Value', 4, ['Leaf', 'neutral or dissatisfied', 2, 4]], ['Value', 5, ['Leaf', 'satisfied', 1, 52]]]], ['Value', 'Eco', ['Leaf', 'neutral or dissatisfied', 26, 83]], ['Value', 'Eco Plus', ['Leaf', 'neutral or dissatisfied', 5, 83]]]], ['Value', 3.0, ['Leaf', 'neutral or dissatisfied', 66, 67, ['Value', 5.0, ['Leaf', 'neutral or dissatisfied', 1, 67]]]], ['Value', 4.0, ['Attribute', 'att7', ['Value', 1.0, ['Leaf', 'neutral or dissatisfied', 6, 7]], ['Value', 2.0, ['Leaf', 'neutral or dissatisfied', 13, 52]], ['Value', 3.0, ['Leaf', 'neutral or dissatisfied', 10, 52]], ['Value', 4.0, ['Leaf', 'neutral or dissatisfied', 16, 52]], ['Value', 5.0, ['Leaf', 'neutral or dissatisfied', 6, 52]]]], ['Value', 5.0, ['Leaf', 'neutral or dissatisfied', 14, 244]]]], ['Value', 3.0, ['Attribute', 'att4', ['Value', 'Business', ['Attribute', 'att9', ['Value', 1.0, ['Leaf', 'neutral or dissatisfied', 6, 99]], ['Value', 2.0, ['Leaf', 'neutral or dissatisfied', 10, 99]], ['Value', 3.0, ['Leaf', 'satisfied', 51, 64]], ['Value', 4.0, ['Leaf', 'neutral or dissatisfied', 12, 99]], ['Value', 5.0, ['Leaf', 'neutral or dissatisfied', 7, 99]]]], ['Value', 'Eco', ['Attribute', 'att8', ['Value', 1.0, ['Attribute', 'att0', ['Value', 'Female', ['Leaf', 'neutral or dissatisfied', 2, 3]], ['Value', 'Male', ['Leaf', 'satisfied', 1, 3]]]], ['Value', 2.0, ['Leaf', 'neutral or dissatisfied', 6, 8]], ['Value', 3.0, ['Leaf', 'neutral or dissatisfied', 80, 81]], ['Value', 4.0, ['Leaf', 'neutral or dissatisfied', 5, 6]], ['Value', 5.0, ['Leaf', 'neutral or dissatisfied', 8, 106]]]], ['Value', 'Eco Plus', ['Leaf', 'neutral or dissatisfied', 13, 15]]]], ['Value', 4.0, ['Attribute', 'att9', ['Value', 1.0, ['Leaf', 'neutral or dissatisfied', 16, 26]], ['Value', 2.0, ['Leaf', 'neutral or dissatisfied', 17, 27, ['Value', 2.0, ['Attribute', 'att4', ['Value', 'Business', ['Leaf', 'neutral or dissatisfied', 5, 14]], ['Value', 'Eco', ['Leaf', 'satisfied', 5, 7]], ['Value', 'Eco Plus', ['Leaf', 'satisfied', 2, 14]]]], ['Value', 3.0, ['Leaf', 'satisfied', 1, 27]], ['Value', 4.0, ['Leaf', 'neutral or dissatisfied', 10, 11, ['Value', 4.0, ['Leaf', 'neutral or dissatisfied', 3, 11]], ['Value', 5.0, ['Leaf', 'neutral or dissatisfied', 6, 11]]]], ['Value', 5.0, ['Leaf', 'satisfied', 1, 27]]]], ['Value', 3.0, ['Attribute', 'att2', ['Value', 1, ['Leaf', 'neutral or dissatisfied', 4, 22]], ['Value', 2, ['Attribute', 'att4', ['Value', 'Business', ['Leaf', 'satisfied', 2, 7]], ['Value', 'Eco', ['Leaf', 'neutral or dissatisfied', 3, 7]], ['Value', 'Eco Plus', ['Attribute', 'att1', ['Value', 'Loyal Customer', ['Leaf', 'satisfied', 1, 2]], ['Value', 'disloyal Customer', ['Leaf', 'neutral or dissatisfied', 1, 2]]]]]], ['Value', 3, ['Attribute', 'att0', ['Value', 'Female', ['Attribute', 'att1', ['Value', 'Loyal Customer', ['Leaf', 'neutral or dissatisfied', 1, 2]], ['Value', 'disloyal Customer', ['Leaf', 'neutral or dissatisfied', 1, 3]]]], ['Value', 'Male', ['Leaf', 'satisfied', 3, 6]]]], ['Value', 4, ['Leaf', 'neutral or dissatisfied', 3, 4]], ['Value', 5, ['Leaf', 'neutral or dissatisfied', 1, 22]]]], ['Value', 4.0, ['Attribute', 'att4', ['Value', 'Business', ['Attribute', 'att2', ['Value', 1, ['Leaf', 'neutral or dissatisfied', 1, 2]], ['Value', 2, ['Leaf', 'satisfied', 12, 18]], ['Value', 3, ['Attribute', 'att8', ['Value', 1.0, ['Leaf', 'satisfied', 1, 24]], ['Value', 2.0, ['Leaf', 'satisfied', 1, 24]], ['Value', 3.0, ['Leaf', 'satisfied', 1, 24]], ['Value', 4.0, ['Attribute', 'att5', ['Value', 1, ['Attribute', 'att0', ['Value', 'Female', ['Leaf', 'satisfied', 2, 5]], ['Value', 'Male', ['Leaf', 'satisfied', 2, 3]]]], ['Value', 2, ['Leaf', 'satisfied', 4, 19]], ['Value', 3, ['Leaf', 'satisfied', 6, 19]], ['Value', 4, ['Leaf', 'satisfied', 3, 19]], ['Value', 5, ['Leaf', 'satisfied', 1, 19]]]], ['Value', 5.0, ['Leaf', 'neutral or dissatisfied', 1, 2]]]], ['Value', 4, ['Leaf', 'satisfied', 19, 20]], ['Value', 5, ['Leaf', 'satisfied', 1, 65]]]], ['Value', 'Eco', ['Leaf', 'neutral or dissatisfied', 9, 15]], ['Value', 'Eco Plus', ['Leaf', 'neutral or dissatisfied', 2, 82]]]], ['Value', 5.0, ['Leaf', 'neutral or dissatisfied', 11, 16, ['Value', 2.0, ['Leaf', 'satisfied', 1, 16]], ['Value', 3.0, ['Leaf', 'neutral or dissatisfied', 1, 16]], ['Value', 4.0, ['Leaf', 'satisfied', 2, 3]], ['Value', 5.0, ['Attribute', 'att4', ['Value', 'Business', ['Leaf', 'neutral or dissatisfied', 5, 11]], ['Value', 'Eco', ['Leaf', 'neutral or dissatisfied', 4, 5, ['Value', 5, ['Leaf', 'satisfied', 1, 5]]]], ['Value', 'Eco Plus', ['Leaf', 'satisfied', 1, 11]]]]]]]], ['Value', 5.0, ['Leaf', 'satisfied', 96, 900]]]\n"
     ]
    }
   ],
   "source": [
    "k = 10\n",
    "\n",
    "xTrainInd, xTestInd = myevaluation.stratified_kfold_cross_validation(customerData.data, satisfaction, k)\n",
    "#print(xTestInd)\n",
    "\n",
    "for i in range(1):\n",
    "    xTrain = []\n",
    "    yTrain = []\n",
    "    xTest = []\n",
    "    yTest = []\n",
    "\n",
    "    satTree = MyDecisionTreeClassifier()\n",
    "\n",
    "    for val in xTrainInd[i]:\n",
    "        xTrain.append(customerData.data[val])\n",
    "        yTrain.append(satisfaction[val])\n",
    "    for val in xTestInd[i]:\n",
    "        xTest.append(customerData.data[val])\n",
    "        yTest.append(satisfaction[val])\n",
    "    satTree.fit(xTrain, yTrain)\n",
    "    #print(satTree.print_decision_rules())\n",
    "    print(satTree.tree)\n",
    "    \n"
   ]
  },
  {
   "cell_type": "code",
   "execution_count": null,
   "metadata": {},
   "outputs": [],
   "source": []
  }
 ]
}