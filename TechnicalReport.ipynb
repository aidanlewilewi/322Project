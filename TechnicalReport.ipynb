{
 "cells": [
  {
   "cell_type": "markdown",
   "metadata": {},
   "source": [
    "# Introduction\n",
    "\n",
    "In this project we are using data collected about airline passengers and their satisfaction levels with their experience. The data set takes into account the distance they flew, they travel class they sat in, if there was a delay, etc. Using this data we are going to try to classify whether the passenger was 'satisfied' or 'neutral or dissatisfied' with their expereince. \n",
    "\n",
    "By using stratified k-fold cross validation to make a decision tree we were able to find.... "
   ]
  },
  {
   "cell_type": "code",
   "execution_count": null,
   "metadata": {},
   "outputs": [],
   "source": []
  },
  {
   "cell_type": "markdown",
   "metadata": {},
   "source": [
    "# Data Analysis\n",
    "\n",
    "### Data Attributes \n",
    "There are twenty-five total attributes in this data set: \n",
    "* **Gender:** Gender of the passengers (Female, Male)\n",
    "* **Customer Type:** The customer type (Loyal customer, disloyal customer)\n",
    "* **Age:** The actual age of the passengers\n",
    "* **Type of Travel:** Purpose of the flight of the passengers (Personal Travel, Business Travel)\n",
    "* **Class:** Travel class in the plane of the passengers (Business, Eco, Eco Plus)\n",
    "* **Flight distance:** The flight distance of this journey\n",
    "* **Inflight wifi service:** Satisfaction level of the inflight wifi service (0:Not Applicable;1-5)\n",
    "* **Departure/Arrival time convenient:** Satisfaction level of Departure/Arrival time convenient\n",
    "* **Ease of Online booking:** Satisfaction level of online booking\n",
    "* **Gate location:** Satisfaction level of Gate location\n",
    "* **Food and drink:** Satisfaction level of Food and drink\n",
    "* **Online boarding:** Satisfaction level of online boarding\n",
    "* **Seat comfort:** Satisfaction level of Seat comfort\n",
    "* **Inflight entertainment:** Satisfaction level of inflight entertainment\n",
    "* **On-board service:** Satisfaction level of On-board service\n",
    "* **Leg room service:** Satisfaction level of Leg room service\n",
    "* **Baggage handling:** Satisfaction level of baggage handling\n",
    "* **Check-in service:** Satisfaction level of Check-in service\n",
    "* **Inflight service:** Satisfaction level of inflight service\n",
    "* **Cleanliness:** Satisfaction level of Cleanliness\n",
    "* **Departure Delay in Minutes:** Minutes delayed when departure\n",
    "* **Arrival Delay in Minutes:** Minutes delayed when Arrival\n",
    "* **Satisfaction:** Airline satisfaction level(Satisfaction, neutral or dissatisfaction)\n",
    "\n",
    "### Data Cleaning\n",
    "While most of these attributes were categorical there are a few that were not, including distance of flight and age. In order to prune our tree some we changed both of these to categorical. To do this we computed what 5 equal bins would be for that data and then assigned each instance a label 1-5 depending on which bin they fell into. \n",
    "\n",
    "Another thing we did to clean our data was to take a random subsample. The data set that we downloaded had upwards of 103,000 instances. We wanted to use just 1,000. To get a random sample, first removed rows with missing values, trimming the dataset down to about 30,000 rows. Then, we shuffled the indices of the data and then made a new dataset with the first 1000 indices. \n",
    "\n",
    "### Summary Stats\n",
    "Some important statistics to point out about our data is that approximately 51% of the respondants were female and approximately 49% were male, a relatively equal distribution between male and female respondants. Furthermore, 82% were loyal customers and 18% were disloyal customers. The majority of passengers were flying for business purposes (69%) and less so for personal travel (31%). Overall we saw that 37% of customers were satisfied with their experience and 63% were neutral or dissatidfied. One area that we looked at more closely was the satisfaction based on the class the passenger was in. For economy passengers, 87.7% were neutral or dissatisfied and 12.3% were satisfied. For economy plus passengers, 83.4% were neutral or dissatisfied and 16.6% were satisfied. For business class passengers, 37% were neutral or dissatisfied and 63% were satisfied.\n"
   ]
  },
  {
   "cell_type": "markdown",
   "metadata": {},
   "source": [
    "# Classification Results \n",
    "\n",
    "We used a stratified kfold cross validation approach to create a decision tree of our data. We then tested the decision tree using some unseen testing instances. We calculated the accuracy of our tree on multiple different test sets, and all produced a predictive accuracy around 90%."
   ]
  },
  {
   "source": [
    "# What's Next?\n",
    "\n",
    "- Play around with eliminating some attributes and testing predictive accuracy\n",
    "    - Need to look more into departure and arrival delay\n",
    "        - Most customers have little or no delay, lots of large outliers\n",
    "- 'Class' seems to be a large factor in determining satisfaction.. maybe try classification without using that attribute \n",
    "- Test predictive accuracy using other classification algorithms\n",
    "- Implement random forest classifier\n",
    "- Deploy app"
   ],
   "cell_type": "markdown",
   "metadata": {}
  }
 ],
 "metadata": {
  "kernelspec": {
   "display_name": "Python 3",
   "language": "python",
   "name": "python3"
  },
  "language_info": {
   "codemirror_mode": {
    "name": "ipython",
    "version": 3
   },
   "file_extension": ".py",
   "mimetype": "text/x-python",
   "name": "python",
   "nbconvert_exporter": "python",
   "pygments_lexer": "ipython3",
   "version": "3.8.3"
  }
 },
 "nbformat": 4,
 "nbformat_minor": 4
}