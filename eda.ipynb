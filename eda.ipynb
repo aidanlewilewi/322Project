{
 "metadata": {
  "language_info": {
   "codemirror_mode": {
    "name": "ipython",
    "version": 3
   },
   "file_extension": ".py",
   "mimetype": "text/x-python",
   "name": "python",
   "nbconvert_exporter": "python",
   "pygments_lexer": "ipython3",
   "version": "3.8.5"
  },
  "orig_nbformat": 2,
  "kernelspec": {
   "name": "python3",
   "display_name": "Python 3.8.5 64-bit ('base': conda)",
   "metadata": {
    "interpreter": {
     "hash": "98b0a9b7b4eaaa670588a142fd0a9b87eaafe866f1db4228be72b4211d12040f"
    }
   }
  }
 },
 "nbformat": 4,
 "nbformat_minor": 2,
 "cells": [
  {
   "source": [
    "# 322 Project Exploratory Data Analysis"
   ],
   "cell_type": "markdown",
   "metadata": {}
  },
  {
   "cell_type": "code",
   "execution_count": 123,
   "metadata": {},
   "outputs": [],
   "source": [
    "import importlib\n",
    "import random\n",
    "\n",
    "import mysklearn.myutils\n",
    "importlib.reload(mysklearn.myutils)\n",
    "import mysklearn.myutils as myutils\n",
    "\n",
    "import mysklearn.mypytable\n",
    "importlib.reload(mysklearn.mypytable)\n",
    "from mysklearn.mypytable import MyPyTable \n",
    "\n",
    "import mysklearn.myclassifiers\n",
    "importlib.reload(mysklearn.myclassifiers)\n",
    "from mysklearn.myclassifiers import MyKNeighborsClassifier, MySimpleLinearRegressor, MyNaiveBayesClassifier, MyDecisionTreeClassifier\n",
    "\n",
    "import mysklearn.myevaluation\n",
    "importlib.reload(mysklearn.myevaluation)\n",
    "import mysklearn.myevaluation as myevaluation"
   ]
  },
  {
   "cell_type": "code",
   "execution_count": 124,
   "metadata": {},
   "outputs": [],
   "source": [
    "customerData = MyPyTable()\n",
    "customerData.load_from_file('projectData/test.csv')\n",
    "customerData.remove_rows_with_missing_values()\n",
    "\n",
    "# get rid of # and ID columns\n",
    "newTable = []\n",
    "for row in customerData.data:\n",
    "    newTable.append(row[2:])\n",
    "customerData.data = newTable\n",
    "customerData.column_names = customerData.column_names[2:]\n"
   ]
  },
  {
   "source": [
    "## Random Subsampling"
   ],
   "cell_type": "markdown",
   "metadata": {}
  },
  {
   "cell_type": "code",
   "execution_count": 125,
   "metadata": {
    "tags": []
   },
   "outputs": [],
   "source": [
    "indices = list(range(len(customerData.data)))\n",
    "random.shuffle(indices)\n",
    "subset = indices[0:1000]\n",
    "newTable = []\n",
    "for ind in subset:\n",
    "    newTable.append(customerData.data[ind])\n",
    "customerData.data = newTable\n",
    "\n",
    "satisfaction = []\n",
    "for row in customerData.data:\n",
    "    satisfaction.append(row.pop())\n",
    "\n"
   ]
  },
  {
   "source": [
    "## Categorizing Flight Distance"
   ],
   "cell_type": "markdown",
   "metadata": {}
  },
  {
   "cell_type": "code",
   "execution_count": 126,
   "metadata": {
    "tags": [
     "outputPrepend"
    ]
   },
   "outputs": [
    {
     "output_type": "stream",
     "name": "stdout",
     "text": [
      " 3.0, 2.0, 4.0, 4.0, 5.0, 4.0, 3.0, 3.0, 3.0, 3.0, 3.0, 1.0, 3.0, 4.0, 0.0, 0.0], ['Female', 'Loyal Customer', 46.0, 'Business travel', 'Business', 5, 2.0, 2.0, 2.0, 2.0, 1.0, 3.0, 3.0, 2.0, 2.0, 2.0, 2.0, 4.0, 2.0, 4.0, 2.0, 0.0], ['Male', 'disloyal Customer', 24.0, 'Business travel', 'Business', 2, 0.0, 0.0, 0.0, 2.0, 3.0, 0.0, 3.0, 3.0, 4.0, 5.0, 5.0, 3.0, 5.0, 3.0, 0.0, 0.0], ['Male', 'disloyal Customer', 23.0, 'Business travel', 'Eco', 1, 2.0, 2.0, 2.0, 3.0, 4.0, 2.0, 4.0, 4.0, 3.0, 5.0, 4.0, 4.0, 4.0, 4.0, 0.0, 0.0], ['Male', 'Loyal Customer', 7.0, 'Personal Travel', 'Eco Plus', 2, 3.0, 5.0, 3.0, 4.0, 2.0, 3.0, 4.0, 2.0, 3.0, 5.0, 4.0, 5.0, 5.0, 2.0, 0.0, 6.0], ['Female', 'Loyal Customer', 23.0, 'Personal Travel', 'Eco', 1, 3.0, 5.0, 3.0, 2.0, 1.0, 3.0, 1.0, 1.0, 5.0, 5.0, 4.0, 5.0, 4.0, 1.0, 3.0, 0.0], ['Male', 'Loyal Customer', 9.0, 'Personal Travel', 'Eco', 2, 2.0, 5.0, 2.0, 3.0, 2.0, 1.0, 2.0, 5.0, 3.0, 5.0, 5.0, 2.0, 3.0, 2.0, 181.0, 170.0], ['Female', 'Loyal Customer', 59.0, 'Business travel', 'Business', 1, 5.0, 5.0, 5.0, 5.0, 4.0, 5.0, 4.0, 5.0, 5.0, 5.0, 5.0, 5.0, 5.0, 3.0, 22.0, 11.0], ['Male', 'Loyal Customer', 60.0, 'Personal Travel', 'Eco', 2, 2.0, 3.0, 1.0, 2.0, 3.0, 1.0, 3.0, 3.0, 4.0, 1.0, 2.0, 4.0, 3.0, 3.0, 0.0, 0.0], ['Male', 'disloyal Customer', 59.0, 'Business travel', 'Business', 4, 3.0, 2.0, 2.0, 4.0, 3.0, 2.0, 2.0, 2.0, 3.0, 5.0, 4.0, 2.0, 2.0, 2.0, 0.0, 4.0], ['Female', 'Loyal Customer', 50.0, 'Business travel', 'Business', 5, 2.0, 2.0, 2.0, 2.0, 3.0, 3.0, 2.0, 4.0, 4.0, 4.0, 5.0, 4.0, 4.0, 2.0, 0.0, 0.0], ['Male', 'Loyal Customer', 57.0, 'Business travel', 'Eco Plus', 4, 3.0, 1.0, 5.0, 1.0, 3.0, 3.0, 3.0, 2.0, 3.0, 2.0, 4.0, 3.0, 2.0, 3.0, 6.0, 0.0], ['Female', 'Loyal Customer', 55.0, 'Business travel', 'Business', 1, 3.0, 3.0, 3.0, 3.0, 5.0, 5.0, 5.0, 5.0, 5.0, 5.0, 5.0, 3.0, 5.0, 3.0, 17.0, 8.0], ['Male', 'Loyal Customer', 56.0, 'Business travel', 'Business', 1, 1.0, 1.0, 4.0, 1.0, 5.0, 4.0, 4.0, 5.0, 5.0, 5.0, 4.0, 5.0, 5.0, 3.0, 19.0, 17.0], ['Male', 'Loyal Customer', 52.0, 'Personal Travel', 'Eco', 2, 2.0, 4.0, 2.0, 1.0, 1.0, 2.0, 3.0, 1.0, 4.0, 5.0, 4.0, 3.0, 5.0, 1.0, 0.0, 2.0], ['Male', 'Loyal Customer', 42.0, 'Business travel', 'Business', 2, 4.0, 4.0, 3.0, 4.0, 4.0, 4.0, 1.0, 2.0, 2.0, 3.0, 2.0, 2.0, 2.0, 3.0, 14.0, 0.0], ['Female', 'Loyal Customer', 51.0, 'Business travel', 'Business', 3, 1.0, 1.0, 1.0, 1.0, 3.0, 4.0, 3.0, 5.0, 5.0, 5.0, 3.0, 1.0, 5.0, 2.0, 10.0, 1.0], ['Female', 'disloyal Customer', 69.0, 'Personal Travel', 'Eco', 1, 3.0, 4.0, 3.0, 4.0, 4.0, 3.0, 4.0, 4.0, 4.0, 3.0, 5.0, 5.0, 4.0, 4.0, 0.0, 0.0], ['Male', 'Loyal Customer', 52.0, 'Business travel', 'Business', 3, 3.0, 3.0, 3.0, 3.0, 2.0, 4.0, 4.0, 3.0, 3.0, 3.0, 3.0, 5.0, 3.0, 3.0, 0.0, 0.0], ['Female', 'Loyal Customer', 25.0, 'Business travel', 'Business', 2, 1.0, 1.0, 1.0, 1.0, 4.0, 4.0, 4.0, 4.0, 5.0, 3.0, 5.0, 3.0, 4.0, 4.0, 9.0, 0.0], ['Male', 'Loyal Customer', 39.0, 'Personal Travel', 'Eco', 1, 3.0, 3.0, 3.0, 5.0, 5.0, 3.0, 5.0, 5.0, 2.0, 1.0, 4.0, 2.0, 5.0, 5.0, 0.0, 78.0], ['Female', 'Loyal Customer', 13.0, 'Personal Travel', 'Eco', 1, 4.0, 3.0, 4.0, 3.0, 2.0, 4.0, 3.0, 2.0, 5.0, 5.0, 3.0, 1.0, 3.0, 2.0, 0.0, 0.0], ['Female', 'disloyal Customer', 24.0, 'Business travel', 'Eco', 1, 3.0, 4.0, 3.0, 2.0, 3.0, 3.0, 3.0, 3.0, 1.0, 3.0, 4.0, 2.0, 2.0, 3.0, 0.0, 0.0], ['Male', 'Loyal Customer', 28.0, 'Personal Travel', 'Eco', 2, 3.0, 5.0, 3.0, 3.0, 2.0, 3.0, 2.0, 2.0, 5.0, 3.0, 5.0, 3.0, 4.0, 2.0, 30.0, 18.0], ['Male', 'disloyal Customer', 15.0, 'Business travel', 'Business', 1, 5.0, 4.0, 5.0, 4.0, 4.0, 5.0, 4.0, 4.0, 4.0, 3.0, 4.0, 5.0, 4.0, 4.0, 22.0, 1.0], ['Male', 'Loyal Customer', 29.0, 'Personal Travel', 'Eco', 2, 1.0, 1.0, 1.0, 4.0, 4.0, 1.0, 4.0, 4.0, 4.0, 2.0, 4.0, 2.0, 4.0, 4.0, 0.0, 0.0], ['Female', 'Loyal Customer', 53.0, 'Business travel', 'Business', 5, 2.0, 2.0, 2.0, 2.0, 5.0, 4.0, 4.0, 5.0, 5.0, 5.0, 5.0, 5.0, 5.0, 3.0, 0.0, 0.0], ['Male', 'Loyal Customer', 32.0, 'Business travel', 'Business', 4, 0.0, 4.0, 0.0, 1.0, 5.0, 5.0, 5.0, 5.0, 5.0, 4.0, 1.0, 1.0, 3.0, 5.0, 0.0, 6.0], ['Male', 'Loyal Customer', 35.0, 'Business travel', 'Eco', 2, 4.0, 4.0, 4.0, 4.0, 4.0, 4.0, 4.0, 4.0, 3.0, 2.0, 5.0, 3.0, 1.0, 4.0, 0.0, 0.0], ['Male', 'Loyal Customer', 49.0, 'Business travel', 'Business', 1, 2.0, 2.0, 2.0, 2.0, 2.0, 5.0, 5.0, 4.0, 4.0, 4.0, 4.0, 4.0, 4.0, 3.0, 0.0, 0.0], ['Female', 'Loyal Customer', 68.0, 'Personal Travel', 'Eco', 2, 3.0, 1.0, 3.0, 3.0, 3.0, 4.0, 3.0, 2.0, 2.0, 3.0, 2.0, 2.0, 2.0, 3.0, 22.0, 15.0], ['Male', 'Loyal Customer', 58.0, 'Business travel', 'Business', 1, 2.0, 5.0, 5.0, 5.0, 3.0, 1.0, 1.0, 2.0, 2.0, 2.0, 2.0, 4.0, 2.0, 1.0, 2.0, 10.0], ['Female', 'Loyal Customer', 66.0, 'Personal Travel', 'Eco', 1, 3.0, 4.0, 3.0, 3.0, 3.0, 4.0, 5.0, 5.0, 5.0, 3.0, 5.0, 5.0, 5.0, 3.0, 3.0, 3.0], ['Female', 'Loyal Customer', 69.0, 'Personal Travel', 'Eco', 1, 2.0, 5.0, 2.0, 4.0, 5.0, 4.0, 5.0, 5.0, 5.0, 2.0, 5.0, 4.0, 5.0, 4.0, 0.0, 0.0], ['Female', 'Loyal Customer', 45.0, 'Business travel', 'Business', 4, 3.0, 3.0, 3.0, 3.0, 3.0, 4.0, 4.0, 4.0, 4.0, 4.0, 4.0, 4.0, 4.0, 4.0, 0.0, 0.0], ['Male', 'Loyal Customer', 42.0, 'Business travel', 'Business', 4, 2.0, 2.0, 2.0, 2.0, 1.0, 3.0, 3.0, 2.0, 2.0, 2.0, 2.0, 2.0, 2.0, 1.0, 0.0, 0.0], ['Male', 'Loyal Customer', 50.0, 'Business travel', 'Business', 3, 3.0, 3.0, 3.0, 3.0, 4.0, 5.0, 5.0, 4.0, 4.0, 4.0, 4.0, 4.0, 4.0, 4.0, 0.0, 0.0], ['Male', 'Loyal Customer', 27.0, 'Business travel', 'Business', 4, 2.0, 2.0, 2.0, 2.0, 5.0, 4.0, 5.0, 5.0, 4.0, 4.0, 5.0, 3.0, 1.0, 5.0, 24.0, 6.0], ['Male', 'Loyal Customer', 15.0, 'Personal Travel', 'Eco', 1, 3.0, 2.0, 5.0, 2.0, 1.0, 5.0, 1.0, 1.0, 3.0, 2.0, 3.0, 4.0, 2.0, 1.0, 7.0, 5.0], ['Female', 'Loyal Customer', 59.0, 'Personal Travel', 'Eco', 1, 1.0, 4.0, 1.0, 1.0, 5.0, 4.0, 5.0, 1.0, 1.0, 1.0, 1.0, 3.0, 1.0, 4.0, 0.0, 0.0], ['Female', 'Loyal Customer', 21.0, 'Business travel', 'Business', 3, 2.0, 2.0, 2.0, 2.0, 3.0, 4.0, 3.0, 3.0, 4.0, 4.0, 4.0, 4.0, 4.0, 3.0, 0.0, 26.0], ['Male', 'Loyal Customer', 57.0, 'Business travel', 'Business', 4, 4.0, 4.0, 4.0, 4.0, 4.0, 3.0, 3.0, 4.0, 4.0, 4.0, 4.0, 2.0, 4.0, 1.0, 0.0, 0.0], ['Female', 'Loyal Customer', 52.0, 'Business travel', 'Business', 1, 5.0, 5.0, 5.0, 5.0, 2.0, 4.0, 4.0, 5.0, 5.0, 5.0, 5.0, 3.0, 5.0, 5.0, 0.0, 0.0], ['Female', 'disloyal Customer', 24.0, 'Business travel', 'Eco', 1, 2.0, 2.0, 2.0, 3.0, 5.0, 2.0, 1.0, 5.0, 2.0, 1.0, 3.0, 3.0, 3.0, 5.0, 0.0, 0.0], ['Male', 'Loyal Customer', 65.0, 'Personal Travel', 'Eco', 2, 1.0, 4.0, 1.0, 1.0, 4.0, 1.0, 4.0, 4.0, 3.0, 4.0, 4.0, 5.0, 5.0, 4.0, 0.0, 0.0], ['Female', 'Loyal Customer', 66.0, 'Personal Travel', 'Eco', 2, 2.0, 5.0, 2.0, 4.0, 3.0, 5.0, 5.0, 4.0, 4.0, 2.0, 1.0, 4.0, 4.0, 4.0, 0.0, 0.0], ['Female', 'Loyal Customer', 47.0, 'Business travel', 'Business', 1, 3.0, 3.0, 3.0, 3.0, 4.0, 5.0, 4.0, 5.0, 5.0, 5.0, 5.0, 4.0, 5.0, 3.0, 0.0, 0.0], ['Female', 'Loyal Customer', 64.0, 'Business travel', 'Business', 1, 4.0, 4.0, 4.0, 4.0, 1.0, 4.0, 1.0, 4.0, 4.0, 3.0, 4.0, 1.0, 4.0, 1.0, 0.0, 0.0], ['Male', 'disloyal Customer', 9.0, 'Business travel', 'Eco', 1, 2.0, 4.0, 2.0, 1.0, 3.0, 2.0, 2.0, 3.0, 5.0, 3.0, 4.0, 5.0, 5.0, 3.0, 0.0, 0.0], ['Male', 'Loyal Customer', 42.0, 'Business travel', 'Business', 1, 2.0, 1.0, 1.0, 1.0, 5.0, 4.0, 3.0, 4.0, 4.0, 4.0, 2.0, 4.0, 4.0, 4.0, 25.0, 6.0], ['Female', 'Loyal Customer', 50.0, 'Business travel', 'Eco', 1, 1.0, 2.0, 2.0, 2.0, 5.0, 4.0, 4.0, 1.0, 1.0, 1.0, 1.0, 2.0, 1.0, 2.0, 72.0, 69.0], ['Male', 'disloyal Customer', 35.0, 'Business travel', 'Eco', 2, 2.0, 2.0, 2.0, 3.0, 4.0, 2.0, 4.0, 4.0, 4.0, 3.0, 3.0, 4.0, 2.0, 4.0, 25.0, 15.0], ['Male', 'Loyal Customer', 39.0, 'Business travel', 'Eco', 1, 1.0, 1.0, 1.0, 1.0, 1.0, 1.0, 1.0, 1.0, 1.0, 1.0, 4.0, 2.0, 3.0, 1.0, 0.0, 0.0], ['Female', 'Loyal Customer', 23.0, 'Business travel', 'Business', 4, 2.0, 4.0, 5.0, 5.0, 2.0, 2.0, 2.0, 2.0, 4.0, 3.0, 4.0, 1.0, 3.0, 2.0, 0.0, 0.0], ['Male', 'Loyal Customer', 55.0, 'Personal Travel', 'Eco', 1, 3.0, 5.0, 4.0, 2.0, 4.0, 4.0, 4.0, 4.0, 4.0, 4.0, 4.0, 5.0, 5.0, 4.0, 0.0, 0.0], ['Female', 'Loyal Customer', 36.0, 'Business travel', 'Eco', 1, 4.0, 4.0, 4.0, 4.0, 4.0, 4.0, 4.0, 4.0, 3.0, 3.0, 3.0, 1.0, 3.0, 4.0, 47.0, 32.0], ['Male', 'Loyal Customer', 20.0, 'Personal Travel', 'Eco', 1, 2.0, 5.0, 2.0, 3.0, 4.0, 2.0, 4.0, 4.0, 5.0, 5.0, 5.0, 4.0, 5.0, 4.0, 0.0, 0.0], ['Female', 'Loyal Customer', 54.0, 'Personal Travel', 'Eco', 2, 3.0, 4.0, 3.0, 4.0, 4.0, 4.0, 5.0, 4.0, 4.0, 3.0, 4.0, 5.0, 4.0, 3.0, 30.0, 35.0], ['Male', 'disloyal Customer', 26.0, 'Business travel', 'Eco', 1, 2.0, 2.0, 2.0, 4.0, 5.0, 2.0, 5.0, 5.0, 4.0, 1.0, 4.0, 1.0, 3.0, 5.0, 0.0, 113.0], ['Female', 'Loyal Customer', 59.0, 'Business travel', 'Business', 2, 5.0, 5.0, 4.0, 5.0, 4.0, 5.0, 4.0, 4.0, 4.0, 4.0, 4.0, 5.0, 4.0, 5.0, 22.0, 19.0], ['Male', 'Loyal Customer', 52.0, 'Business travel', 'Business', 3, 4.0, 4.0, 4.0, 4.0, 2.0, 5.0, 4.0, 3.0, 3.0, 3.0, 3.0, 5.0, 3.0, 5.0, 4.0, 7.0], ['Female', 'Loyal Customer', 33.0, 'Personal Travel', 'Eco', 1, 0.0, 4.0, 0.0, 4.0, 5.0, 0.0, 5.0, 5.0, 4.0, 3.0, 4.0, 3.0, 3.0, 5.0, 2.0, 4.0], ['Male', 'Loyal Customer', 48.0, 'Business travel', 'Business', 1, 5.0, 5.0, 3.0, 5.0, 4.0, 5.0, 5.0, 3.0, 3.0, 4.0, 5.0, 3.0, 3.0, 4.0, 0.0, 0.0], ['Female', 'Loyal Customer', 59.0, 'Business travel', 'Business', 4, 2.0, 2.0, 2.0, 2.0, 2.0, 4.0, 4.0, 5.0, 5.0, 5.0, 5.0, 3.0, 5.0, 5.0, 0.0, 0.0], ['Female', 'Loyal Customer', 59.0, 'Personal Travel', 'Eco Plus', 2, 3.0, 5.0, 3.0, 3.0, 5.0, 4.0, 5.0, 5.0, 5.0, 3.0, 5.0, 4.0, 5.0, 3.0, 0.0, 0.0], ['Female', 'Loyal Customer', 16.0, 'Personal Travel', 'Eco', 1, 1.0, 5.0, 1.0, 3.0, 4.0, 1.0, 1.0, 4.0, 5.0, 5.0, 5.0, 3.0, 5.0, 4.0, 0.0, 0.0], ['Female', 'Loyal Customer', 40.0, 'Business travel', 'Business', 1, 1.0, 1.0, 1.0, 1.0, 4.0, 5.0, 5.0, 4.0, 3.0, 5.0, 4.0, 5.0, 3.0, 5.0, 247.0, 286.0], ['Male', 'disloyal Customer', 27.0, 'Business travel', 'Eco Plus', 1, 4.0, 4.0, 4.0, 3.0, 2.0, 4.0, 2.0, 2.0, 5.0, 2.0, 5.0, 3.0, 1.0, 2.0, 0.0, 0.0], ['Male', 'Loyal Customer', 55.0, 'Business travel', 'Business', 5, 1.0, 1.0, 1.0, 1.0, 5.0, 3.0, 5.0, 3.0, 3.0, 3.0, 3.0, 5.0, 3.0, 1.0, 7.0, 9.0], ['Male', 'Loyal Customer', 35.0, 'Personal Travel', 'Eco', 1, 3.0, 3.0, 3.0, 3.0, 2.0, 3.0, 2.0, 2.0, 3.0, 5.0, 4.0, 3.0, 3.0, 2.0, 0.0, 0.0], ['Male', 'disloyal Customer', 37.0, 'Business travel', 'Business', 1, 5.0, 5.0, 5.0, 2.0, 4.0, 5.0, 4.0, 4.0, 2.0, 2.0, 5.0, 1.0, 4.0, 4.0, 0.0, 0.0], ['Male', 'Loyal Customer', 58.0, 'Business travel', 'Business', 5, 0.0, 0.0, 0.0, 3.0, 3.0, 4.0, 5.0, 2.0, 2.0, 2.0, 3.0, 4.0, 2.0, 4.0, 3.0, 0.0], ['Female', 'Loyal Customer', 60.0, 'Personal Travel', 'Eco', 1, 1.0, 5.0, 1.0, 3.0, 2.0, 5.0, 5.0, 2.0, 2.0, 1.0, 2.0, 3.0, 2.0, 3.0, 6.0, 9.0], ['Male', 'Loyal Customer', 7.0, 'Personal Travel', 'Eco Plus', 2, 3.0, 3.0, 2.0, 4.0, 1.0, 2.0, 1.0, 1.0, 4.0, 4.0, 1.0, 2.0, 1.0, 1.0, 0.0, 0.0], ['Male', 'Loyal Customer', 52.0, 'Personal Travel', 'Eco', 1, 2.0, 5.0, 2.0, 2.0, 4.0, 2.0, 4.0, 4.0, 1.0, 2.0, 2.0, 5.0, 3.0, 4.0, 0.0, 0.0], ['Male', 'disloyal Customer', 25.0, 'Business travel', 'Eco', 2, 1.0, 0.0, 0.0, 1.0, 5.0, 0.0, 5.0, 5.0, 3.0, 2.0, 5.0, 4.0, 3.0, 5.0, 0.0, 0.0], ['Male', 'disloyal Customer', 27.0, 'Business travel', 'Eco', 2, 4.0, 4.0, 4.0, 4.0, 2.0, 4.0, 2.0, 2.0, 2.0, 3.0, 4.0, 4.0, 3.0, 2.0, 11.0, 0.0], ['Male', 'disloyal Customer', 24.0, 'Business travel', 'Eco', 1, 2.0, 2.0, 2.0, 3.0, 2.0, 2.0, 2.0, 2.0, 1.0, 4.0, 3.0, 3.0, 3.0, 2.0, 0.0, 0.0], ['Female', 'Loyal Customer', 57.0, 'Business travel', 'Business', 4, 3.0, 3.0, 3.0, 3.0, 4.0, 4.0, 4.0, 5.0, 5.0, 5.0, 5.0, 5.0, 5.0, 5.0, 2.0, 0.0], ['Male', 'disloyal Customer', 12.0, 'Business travel', 'Eco', 2, 2.0, 3.0, 3.0, 3.0, 3.0, 3.0, 3.0, 3.0, 1.0, 5.0, 5.0, 1.0, 4.0, 3.0, 0.0, 2.0], ['Female', 'Loyal Customer', 39.0, 'Personal Travel', 'Eco', 1, 2.0, 5.0, 1.0, 2.0, 4.0, 1.0, 4.0, 4.0, 2.0, 2.0, 4.0, 4.0, 5.0, 4.0, 0.0, 0.0], ['Female', 'Loyal Customer', 40.0, 'Personal Travel', 'Eco', 1, 3.0, 4.0, 3.0, 2.0, 5.0, 3.0, 5.0, 5.0, 4.0, 5.0, 5.0, 4.0, 5.0, 5.0, 0.0, 6.0], ['Male', 'Loyal Customer', 30.0, 'Business travel', 'Eco Plus', 2, 2.0, 2.0, 2.0, 2.0, 2.0, 2.0, 2.0, 2.0, 1.0, 1.0, 4.0, 3.0, 3.0, 2.0, 20.0, 13.0], ['Female', 'disloyal Customer', 23.0, 'Business travel', 'Eco', 1, 2.0, 2.0, 2.0, 2.0, 5.0, 2.0, 5.0, 5.0, 3.0, 4.0, 2.0, 3.0, 3.0, 5.0, 0.0, 0.0], ['Male', 'Loyal Customer', 53.0, 'Business travel', 'Business', 4, 1.0, 1.0, 1.0, 1.0, 4.0, 3.0, 4.0, 3.0, 3.0, 4.0, 3.0, 5.0, 3.0, 3.0, 4.0, 0.0], ['Male', 'Loyal Customer', 46.0, 'Business travel', 'Business', 3, 3.0, 5.0, 5.0, 5.0, 3.0, 3.0, 3.0, 3.0, 3.0, 3.0, 3.0, 1.0, 3.0, 2.0, 24.0, 0.0], ['Male', 'Loyal Customer', 28.0, 'Personal Travel', 'Eco', 3, 4.0, 2.0, 4.0, 4.0, 2.0, 4.0, 2.0, 2.0, 4.0, 4.0, 4.0, 4.0, 4.0, 2.0, 33.0, 8.0], ['Female', 'Loyal Customer', 16.0, 'Business travel', 'Business', 4, 3.0, 3.0, 1.0, 3.0, 3.0, 3.0, 3.0, 3.0, 3.0, 5.0, 1.0, 3.0, 4.0, 3.0, 0.0, 0.0], ['Female', 'disloyal Customer', 15.0, 'Business travel', 'Eco', 1, 4.0, 0.0, 4.0, 4.0, 3.0, 4.0, 3.0, 3.0, 4.0, 2.0, 5.0, 1.0, 5.0, 3.0, 0.0, 0.0], ['Male', 'Loyal Customer', 34.0, 'Business travel', 'Business', 1, 3.0, 3.0, 2.0, 3.0, 4.0, 3.0, 2.0, 3.0, 3.0, 3.0, 3.0, 2.0, 3.0, 2.0, 0.0, 0.0], ['Male', 'Loyal Customer', 33.0, 'Personal Travel', 'Eco', 1, 4.0, 5.0, 4.0, 5.0, 1.0, 4.0, 1.0, 1.0, 5.0, 5.0, 5.0, 5.0, 5.0, 1.0, 0.0, 0.0], ['Male', 'Loyal Customer', 43.0, 'Business travel', 'Business', 4, 1.0, 4.0, 4.0, 4.0, 5.0, 2.0, 3.0, 1.0, 1.0, 1.0, 1.0, 2.0, 1.0, 1.0, 8.0, 0.0], ['Male', 'Loyal Customer', 61.0, 'Business travel', 'Eco Plus', 1, 5.0, 3.0, 1.0, 3.0, 5.0, 5.0, 5.0, 5.0, 2.0, 2.0, 2.0, 2.0, 3.0, 5.0, 13.0, 4.0], ['Female', 'Loyal Customer', 23.0, 'Personal Travel', 'Eco', 1, 1.0, 3.0, 1.0, 1.0, 4.0, 1.0, 4.0, 4.0, 4.0, 5.0, 2.0, 2.0, 3.0, 4.0, 0.0, 0.0], ['Female', 'Loyal Customer', 45.0, 'Business travel', 'Business', 1, 4.0, 4.0, 4.0, 4.0, 5.0, 4.0, 5.0, 5.0, 5.0, 4.0, 5.0, 3.0, 5.0, 3.0, 0.0, 0.0], ['Female', 'Loyal Customer', 30.0, 'Business travel', 'Business', 3, 3.0, 3.0, 3.0, 3.0, 5.0, 5.0, 5.0, 5.0, 1.0, 1.0, 4.0, 2.0, 4.0, 5.0, 0.0, 0.0], ['Female', 'Loyal Customer', 66.0, 'Business travel', 'Eco', 3, 1.0, 4.0, 4.0, 4.0, 5.0, 1.0, 1.0, 1.0, 1.0, 1.0, 1.0, 1.0, 1.0, 3.0, 0.0, 0.0], ['Male', 'Loyal Customer', 34.0, 'Personal Travel', 'Eco', 2, 3.0, 5.0, 3.0, 2.0, 5.0, 3.0, 5.0, 5.0, 5.0, 2.0, 4.0, 4.0, 5.0, 5.0, 0.0, 0.0], ['Female', 'disloyal Customer', 20.0, 'Business travel', 'Eco', 1, 2.0, 4.0, 2.0, 4.0, 2.0, 2.0, 2.0, 2.0, 3.0, 3.0, 3.0, 1.0, 4.0, 2.0, 0.0, 0.0], ['Female', 'Loyal Customer', 56.0, 'Business travel', 'Eco', 1, 4.0, 2.0, 5.0, 2.0, 5.0, 1.0, 4.0, 4.0, 4.0, 4.0, 4.0, 1.0, 4.0, 4.0, 17.0, 41.0], ['Female', 'Loyal Customer', 23.0, 'Business travel', 'Business', 1, 1.0, 1.0, 1.0, 1.0, 1.0, 1.0, 1.0, 1.0, 2.0, 5.0, 4.0, 4.0, 3.0, 1.0, 0.0, 0.0], ['Male', 'disloyal Customer', 31.0, 'Business travel', 'Eco', 2, 1.0, 1.0, 1.0, 2.0, 5.0, 1.0, 5.0, 5.0, 1.0, 4.0, 1.0, 3.0, 3.0, 5.0, 0.0, 0.0], ['Female', 'disloyal Customer', 29.0, 'Business travel', 'Eco', 2, 3.0, 2.0, 2.0, 3.0, 1.0, 2.0, 1.0, 1.0, 2.0, 5.0, 4.0, 4.0, 4.0, 1.0, 1.0, 0.0], ['Female', 'Loyal Customer', 52.0, 'Business travel', 'Business', 2, 3.0, 3.0, 3.0, 3.0, 2.0, 5.0, 5.0, 5.0, 5.0, 5.0, 5.0, 4.0, 5.0, 5.0, 0.0, 11.0], ['Male', 'Loyal Customer', 35.0, 'Personal Travel', 'Eco', 2, 3.0, 3.0, 3.0, 3.0, 3.0, 3.0, 3.0, 3.0, 4.0, 3.0, 4.0, 1.0, 4.0, 3.0, 42.0, 37.0], ['Female', 'Loyal Customer', 55.0, 'Personal Travel', 'Eco', 1, 3.0, 4.0, 3.0, 1.0, 3.0, 1.0, 5.0, 5.0, 5.0, 3.0, 5.0, 5.0, 5.0, 2.0, 7.0, 20.0], ['Male', 'Loyal Customer', 57.0, 'Business travel', 'Business', 5, 3.0, 3.0, 4.0, 3.0, 4.0, 4.0, 4.0, 5.0, 4.0, 5.0, 4.0, 4.0, 4.0, 4.0, 181.0, 202.0], ['Male', 'Loyal Customer', 67.0, 'Personal Travel', 'Eco', 1, 3.0, 0.0, 3.0, 2.0, 3.0, 3.0, 4.0, 3.0, 5.0, 4.0, 3.0, 4.0, 3.0, 3.0, 0.0, 0.0], ['Male', 'Loyal Customer', 36.0, 'Personal Travel', 'Eco', 1, 2.0, 4.0, 2.0, 4.0, 1.0, 2.0, 1.0, 1.0, 4.0, 3.0, 4.0, 5.0, 4.0, 1.0, 22.0, 32.0], ['Male', 'Loyal Customer', 65.0, 'Personal Travel', 'Eco', 1, 3.0, 5.0, 3.0, 4.0, 3.0, 3.0, 3.0, 3.0, 4.0, 5.0, 5.0, 5.0, 5.0, 3.0, 0.0, 0.0], ['Male', 'disloyal Customer', 48.0, 'Business travel', 'Business', 2, 3.0, 3.0, 3.0, 1.0, 5.0, 3.0, 5.0, 5.0, 3.0, 5.0, 5.0, 3.0, 4.0, 5.0, 32.0, 41.0], ['Male', 'Loyal Customer', 63.0, 'Personal Travel', 'Eco', 1, 4.0, 5.0, 4.0, 2.0, 1.0, 4.0, 1.0, 1.0, 5.0, 5.0, 3.0, 1.0, 1.0, 1.0, 4.0, 9.0], ['Male', 'Loyal Customer', 43.0, 'Personal Travel', 'Eco', 1, 2.0, 4.0, 2.0, 4.0, 4.0, 2.0, 4.0, 4.0, 1.0, 4.0, 4.0, 3.0, 3.0, 4.0, 96.0, 102.0], ['Female', 'Loyal Customer', 61.0, 'Business travel', 'Eco', 1, 3.0, 1.0, 1.0, 1.0, 4.0, 3.0, 3.0, 3.0, 3.0, 3.0, 3.0, 3.0, 3.0, 2.0, 0.0, 36.0], ['Female', 'Loyal Customer', 41.0, 'Business travel', 'Business', 1, 5.0, 5.0, 5.0, 5.0, 5.0, 2.0, 4.0, 4.0, 4.0, 4.0, 4.0, 4.0, 4.0, 3.0, 20.0, 16.0], ['Male', 'Loyal Customer', 33.0, 'Business travel', 'Business', 1, 2.0, 2.0, 3.0, 2.0, 4.0, 4.0, 4.0, 4.0, 5.0, 2.0, 5.0, 3.0, 4.0, 4.0, 86.0, 85.0], ['Male', 'Loyal Customer', 53.0, 'Personal Travel', 'Eco', 1, 1.0, 5.0, 1.0, 3.0, 3.0, 1.0, 3.0, 3.0, 3.0, 2.0, 5.0, 4.0, 4.0, 3.0, 7.0, 18.0], ['Male', 'Loyal Customer', 59.0, 'Business travel', 'Business', 3, 5.0, 5.0, 5.0, 5.0, 3.0, 4.0, 4.0, 5.0, 5.0, 5.0, 5.0, 3.0, 5.0, 3.0, 0.0, 0.0], ['Female', 'Loyal Customer', 54.0, 'Business travel', 'Business', 3, 4.0, 4.0, 4.0, 4.0, 4.0, 5.0, 4.0, 5.0, 5.0, 5.0, 5.0, 5.0, 5.0, 3.0, 0.0, 0.0], ['Male', 'Loyal Customer', 56.0, 'Business travel', 'Business', 4, 4.0, 4.0, 4.0, 4.0, 4.0, 5.0, 4.0, 4.0, 4.0, 4.0, 4.0, 3.0, 4.0, 5.0, 117.0, 113.0], ['Male', 'disloyal Customer', 36.0, 'Business travel', 'Business', 1, 2.0, 2.0, 2.0, 5.0, 3.0, 2.0, 3.0, 3.0, 5.0, 3.0, 4.0, 4.0, 5.0, 3.0, 0.0, 0.0], ['Female', 'Loyal Customer', 58.0, 'Personal Travel', 'Eco', 1, 3.0, 2.0, 3.0, 3.0, 5.0, 3.0, 4.0, 1.0, 1.0, 3.0, 1.0, 1.0, 1.0, 1.0, 1.0, 0.0], ['Female', 'Loyal Customer', 41.0, 'Business travel', 'Business', 1, 4.0, 4.0, 4.0, 4.0, 5.0, 5.0, 5.0, 4.0, 4.0, 4.0, 4.0, 5.0, 4.0, 5.0, 0.0, 4.0], ['Male', 'Loyal Customer', 15.0, 'Personal Travel', 'Eco', 1, 2.0, 4.0, 2.0, 3.0, 2.0, 2.0, 3.0, 2.0, 3.0, 5.0, 4.0, 4.0, 4.0, 2.0, 29.0, 26.0], ['Male', 'Loyal Customer', 56.0, 'Personal Travel', 'Eco', 2, 2.0, 4.0, 2.0, 4.0, 4.0, 2.0, 4.0, 4.0, 4.0, 2.0, 5.0, 5.0, 4.0, 4.0, 0.0, 0.0], ['Female', 'Loyal Customer', 47.0, 'Personal Travel', 'Eco', 1, 1.0, 5.0, 1.0, 2.0, 5.0, 4.0, 5.0, 1.0, 1.0, 1.0, 1.0, 3.0, 1.0, 4.0, 0.0, 0.0], ['Male', 'Loyal Customer', 69.0, 'Personal Travel', 'Business', 3, 2.0, 2.0, 2.0, 4.0, 1.0, 2.0, 4.0, 2.0, 2.0, 2.0, 2.0, 1.0, 2.0, 3.0, 0.0, 0.0], ['Female', 'disloyal Customer', 24.0, 'Business travel', 'Business', 1, 5.0, 4.0, 5.0, 3.0, 4.0, 5.0, 1.0, 4.0, 4.0, 5.0, 5.0, 3.0, 5.0, 4.0, 0.0, 0.0], ['Male', 'Loyal Customer', 34.0, 'Personal Travel', 'Eco', 1, 2.0, 5.0, 2.0, 1.0, 1.0, 2.0, 1.0, 1.0, 3.0, 5.0, 4.0, 5.0, 5.0, 1.0, 0.0, 1.0], ['Female', 'Loyal Customer', 39.0, 'Business travel', 'Business', 2, 5.0, 5.0, 5.0, 5.0, 5.0, 4.0, 4.0, 4.0, 4.0, 4.0, 4.0, 5.0, 4.0, 5.0, 0.0, 0.0], ['Female', 'Loyal Customer', 30.0, 'Business travel', 'Business', 1, 5.0, 5.0, 5.0, 5.0, 4.0, 4.0, 4.0, 4.0, 4.0, 3.0, 5.0, 4.0, 4.0, 4.0, 0.0, 0.0], ['Female', 'Loyal Customer', 40.0, 'Business travel', 'Business', 2, 1.0, 1.0, 1.0, 1.0, 3.0, 5.0, 4.0, 5.0, 5.0, 5.0, 5.0, 4.0, 5.0, 5.0, 0.0, 0.0], ['Male', 'Loyal Customer', 49.0, 'Business travel', 'Business', 1, 1.0, 1.0, 5.0, 1.0, 3.0, 5.0, 2.0, 4.0, 4.0, 4.0, 4.0, 5.0, 4.0, 4.0, 1.0, 31.0], ['Male', 'Loyal Customer', 40.0, 'Business travel', 'Eco', 2, 4.0, 2.0, 2.0, 2.0, 4.0, 4.0, 4.0, 4.0, 2.0, 2.0, 3.0, 2.0, 1.0, 4.0, 0.0, 6.0], ['Female', 'disloyal Customer', 25.0, 'Business travel', 'Business', 2, 5.0, 0.0, 5.0, 2.0, 5.0, 3.0, 3.0, 4.0, 5.0, 4.0, 5.0, 3.0, 4.0, 3.0, 154.0, 149.0], ['Male', 'Loyal Customer', 64.0, 'Business travel', 'Eco Plus', 1, 4.0, 4.0, 4.0, 4.0, 4.0, 4.0, 4.0, 4.0, 2.0, 4.0, 1.0, 2.0, 5.0, 4.0, 0.0, 0.0]]\n"
     ]
    }
   ],
   "source": [
    "distance = myutils.get_column(customerData.data, customerData.column_names, 'Flight Distance')\n",
    "cutoffs = myutils.compute_equal_width_cutoffs(distance, 5)\n",
    "bins = myutils.convert_cutoffs_to_bins(cutoffs)\n",
    "for i in range(len(customerData.data)):\n",
    "    customerData.data[i][5] = myutils.convertBinToCategory(customerData.data[i][5], bins)\n",
    "\n"
   ]
  },
  {
   "cell_type": "code",
   "execution_count": 127,
   "metadata": {
    "tags": []
   },
   "outputs": [
    {
     "output_type": "stream",
     "name": "stdout",
     "text": [
      "10\n"
     ]
    }
   ],
   "source": [
    "k = 10\n",
    "\n",
    "xTrainInd, xTestInd = myevaluation.stratified_kfold_cross_validation(customerData.data, satisfaction, k)\n",
    "print(len(xTrainInd))\n",
    "#print(xTestInd)\n",
    "\n",
    "for i in range(1):\n",
    "    xTrain = []\n",
    "    yTrain = []\n",
    "    xTest = []\n",
    "    yTest = []\n",
    "\n",
    "    satTree = MyDecisionTreeClassifier()\n",
    "\n",
    "    for val in xTrainInd[i]:\n",
    "        xTrain.append(customerData.data[val])\n",
    "        yTrain.append(satisfaction[val])\n",
    "    for val in xTestInd[i]:\n",
    "        xTest.append(customerData.data[val])\n",
    "        yTest.append(satisfaction[val])\n",
    "    satTree.fit(xTrain, yTrain)\n",
    "    #print(satTree.tree)\n",
    "\n",
    "    \n",
    "    #tree.fit(xTrain, yTrain)\n",
    "    #print(xTrain)\n",
    "    \n"
   ]
  },
  {
   "cell_type": "code",
   "execution_count": null,
   "metadata": {},
   "outputs": [],
   "source": []
  }
 ]
}