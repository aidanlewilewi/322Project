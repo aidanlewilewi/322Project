{
 "metadata": {
  "language_info": {
   "codemirror_mode": {
    "name": "ipython",
    "version": 3
   },
   "file_extension": ".py",
   "mimetype": "text/x-python",
   "name": "python",
   "nbconvert_exporter": "python",
   "pygments_lexer": "ipython3",
   "version": 3
  },
  "orig_nbformat": 2
 },
 "nbformat": 4,
 "nbformat_minor": 2,
 "cells": [
  {
   "source": [
    "# Wine Quality Predictor\n",
    "#### Names: Aidan Lewis, Macy Ryan\n"
   ],
   "cell_type": "markdown",
   "metadata": {}
  },
  {
   "source": [
    "## 2. Dataset information\n",
    "\n",
    "1. Our dataset came from this [source.](https://www.kaggle.com/rajyellow46/wine-quality) It contains approximately 6,500 instances with 13 attributes. The dataset contains information about certain chemical components found in wine and their ratings (from 0 to 10).\n",
    "\n",
    "1. Attributes\n",
    "- Type (red or white)\n",
    "- Fixed acidity\n",
    "- Volatile acidity\n",
    "- Citric acid \n",
    "- Residual sugar\n",
    "- Chlorides\n",
    "- Free sulfur dioxide\n",
    "- Total sulfur dioxide \n",
    "- Density\n",
    "- pH\n",
    "- Sulfates\n",
    "- Alcohol\n",
    "- Quality \n",
    "\n",
    "We will attempt to predict the quality of wine based off of all of the other attributes.\n"
   ],
   "cell_type": "markdown",
   "metadata": {}
  },
  {
   "source": [
    "## 3. Implementation/Technical Merit\n",
    "\n",
    "1. Anticipated Challenges\n",
    "\n",
    "- The main challenge in preprocessing/classification will be converting the data from continuous to categorical. We plan to do so by splitting each column's values into ratings, similar to what we did when classifying MPG ratings in earlier programming assignment. We will need to determine a method for determining these ranges/bins, whether it be splitting them evenly based on the range of values, equal frequency binning, etc. \n",
    "\n",
    "2. Feature Selection\n",
    "\n",
    "- We may also need to cut down the number of attributes we use to predict quality. If we do, we will need to do some research, as well as analyze the data we are using, to determine which attributes may be less necessary for classification than others. This could involve running predictive analyses with different combinations of attributes and determining the predictive accuracy of those combinations. If removing an attribute from a classification has little impact on the predictive accuracy, it might be a viable option to remove that column from the dataset."
   ],
   "cell_type": "markdown",
   "metadata": {}
  },
  {
   "source": [
    "## 4. Potential Impact\n",
    "\n",
    "1. Why are these results useful?\n",
    "\n",
    "- The results of the classification are primarily useful for two groups of people: winemakers and consumers of wine. Winemakers could use the data to potentially improve the flavor of their wines in the future. Consumers of wine could, before purchasing anything, check wine using our classifier and get an estimate of what its rating would be. You wouldn't want to visit a vineyard with bad wine, and you definitely wouldn't want to buy your friend a bad bottle!"
   ],
   "cell_type": "markdown",
   "metadata": {}
  }
 ]
}